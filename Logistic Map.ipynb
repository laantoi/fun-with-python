{
 "cells": [
  {
   "cell_type": "code",
   "execution_count": 19,
   "metadata": {
    "collapsed": true
   },
   "outputs": [],
   "source": [
    "import matplotlib.pyplot as plt\n",
    "import numpy as np"
   ]
  },
  {
   "cell_type": "markdown",
   "metadata": {},
   "source": [
    "Define the logistic map as an anonymous function.\n",
    "\n",
    "$x_{n+1} = r x_n (1 - x_n)$,\n",
    "\n",
    "where $x_n \\in [0,1]$, $r \\in [0,4]$."
   ]
  },
  {
   "cell_type": "code",
   "execution_count": 1,
   "metadata": {
    "collapsed": true
   },
   "outputs": [],
   "source": [
    "LogisticMap = lambda x, r: r*x*(1.0-x)"
   ]
  },
  {
   "cell_type": "code",
   "execution_count": 2,
   "metadata": {
    "collapsed": true
   },
   "outputs": [],
   "source": [
    "def Iterate(g, x0, N, args=()):\n",
    "    \"\"\"\n",
    "    Iterate the passed 1D function g N times, using x0 as the initial value.\n",
    "    The parameters are passed as a tuple that is unpacked and appended to the arguments of g.\n",
    "    \"\"\"\n",
    "    for i in range(N):\n",
    "        x0 = g(x0, *args)\n",
    "    return x0"
   ]
  },
  {
   "cell_type": "code",
   "execution_count": 76,
   "metadata": {
    "collapsed": true
   },
   "outputs": [],
   "source": [
    "def FindAttractors(r,x0,M):       \n",
    "    \"\"\" Finds at most M attractors of the LogisticMap at parameter r starting at x0\n",
    "        We assume the iteration converges in itersteps\"\"\"\n",
    "    itersteps = 100\n",
    "    result = [] # initialize an empty result list\n",
    "    for i in range(M):\n",
    "        result.append(Iterate(LogisticMap, x0, itersteps+i, (r,)))\n",
    "    return result"
   ]
  },
  {
   "cell_type": "code",
   "execution_count": 78,
   "metadata": {
    "scrolled": true
   },
   "outputs": [
    {
     "data": {
      "text/plain": [
       "[0.33333333333333337,\n",
       " 0.3333333333333333,\n",
       " 0.33333333333333337,\n",
       " 0.3333333333333333]"
      ]
     },
     "execution_count": 78,
     "metadata": {},
     "output_type": "execute_result"
    }
   ],
   "source": [
    "\"\"\" 1 fixed point\"\"\"\n",
    "rtmp = 1.5\n",
    "FindAttractors(rtmp,0.5,4)"
   ]
  },
  {
   "cell_type": "code",
   "execution_count": 79,
   "metadata": {
    "scrolled": true
   },
   "outputs": [
    {
     "data": {
      "text/plain": [
       "[0.5130445095326298,\n",
       " 0.7994554904673701,\n",
       " 0.5130445095326298,\n",
       " 0.7994554904673701]"
      ]
     },
     "execution_count": 79,
     "metadata": {},
     "output_type": "execute_result"
    }
   ],
   "source": [
    "\"\"\" 2 fixed points\"\"\"\n",
    "rtmp = 3.2\n",
    "FindAttractors(rtmp,0.5,4)"
   ]
  },
  {
   "cell_type": "code",
   "execution_count": 80,
   "metadata": {
    "scrolled": true
   },
   "outputs": [
    {
     "data": {
      "text/plain": [
       "[0.3158044623339584,\n",
       " 0.7994664144444962,\n",
       " 0.5931835064931018,\n",
       " 0.8928722862353053]"
      ]
     },
     "execution_count": 80,
     "metadata": {},
     "output_type": "execute_result"
    }
   ],
   "source": [
    "\"\"\" chaos\"\"\"\n",
    "rtmp = 3.7\n",
    "FindAttractors(rtmp,0.5,4)"
   ]
  },
  {
   "cell_type": "code",
   "execution_count": 94,
   "metadata": {
    "scrolled": true
   },
   "outputs": [
    {
     "data": {
      "image/png": "[encoded data removed]",
      "text/plain": [
       "<matplotlib.figure.Figure at 0x7f88ab7856a0>"
      ]
     },
     "metadata": {},
     "output_type": "display_data"
    }
   ],
   "source": [
    "x0 = 0.5 # initial value \n",
    "maxa = 40 # maximum number of fixed points that we search for for a given r\n",
    "attractor = []\n",
    "x = np.linspace(0,4,440) # values of r\n",
    "\n",
    "for r in x:    \n",
    "    attractor.append(FindAttractors(r,x0,maxa))\n",
    "\n",
    "for xe, ye in zip(x, attractor):\n",
    "    plt.scatter([xe] * len(ye), ye,s=0.2,c='r')    \n",
    "\n",
    "plt.ylabel('Attractor/fixed point')\n",
    "plt.xlabel('r')\n",
    "plt.title('Logistic map $x_{n+1} = r x_n (1 - x_n)$')\n",
    "plt.savefig('LM.png')\n",
    "plt.show()"
   ]
  },
  {
   "cell_type": "code",
   "execution_count": null,
   "metadata": {
    "collapsed": true
   },
   "outputs": [],
   "source": []
  }
 ],
 "metadata": {
  "kernelspec": {
   "display_name": "Python 3",
   "language": "python",
   "name": "python3"
  },
  "language_info": {
   "codemirror_mode": {
    "name": "ipython",
    "version": 3
   },
   "file_extension": ".py",
   "mimetype": "text/x-python",
   "name": "python",
   "nbconvert_exporter": "python",
   "pygments_lexer": "ipython3",
   "version": "3.6.1"
  }
 },
 "nbformat": 4,
 "nbformat_minor": 2
}
